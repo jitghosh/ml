{
 "cells": [
  {
   "cell_type": "code",
   "execution_count": 17,
   "metadata": {},
   "outputs": [],
   "source": [
    "import numpy as np\n",
    "import pandas as pd\n",
    "from sklearn.model_selection import train_test_split\n",
    "from typing import Tuple, List, Dict\n",
    "import math\n",
    "import seaborn as sns\n",
    "import matplotlib.pyplot as plt\n",
    "from ucimlrepo import fetch_ucirepo \n",
    "from sklearn.model_selection import KFold\n",
    "from sklearn.preprocessing import StandardScaler\n",
    "from sklearn.linear_model import LinearRegression, Ridge\n",
    "from sklearn.tree import DecisionTreeRegressor\n",
    "from sklearn.metrics import mean_squared_error"
   ]
  },
  {
   "cell_type": "code",
   "execution_count": 8,
   "metadata": {},
   "outputs": [
    {
     "data": {
      "text/html": [
       "<div>\n",
       "<style scoped>\n",
       "    .dataframe tbody tr th:only-of-type {\n",
       "        vertical-align: middle;\n",
       "    }\n",
       "\n",
       "    .dataframe tbody tr th {\n",
       "        vertical-align: top;\n",
       "    }\n",
       "\n",
       "    .dataframe thead th {\n",
       "        text-align: right;\n",
       "    }\n",
       "</style>\n",
       "<table border=\"1\" class=\"dataframe\">\n",
       "  <thead>\n",
       "    <tr style=\"text-align: right;\">\n",
       "      <th></th>\n",
       "      <th>season</th>\n",
       "      <th>mnth</th>\n",
       "      <th>hr</th>\n",
       "      <th>holiday</th>\n",
       "      <th>weekday</th>\n",
       "      <th>workingday</th>\n",
       "      <th>weathersit</th>\n",
       "      <th>temp</th>\n",
       "      <th>atemp</th>\n",
       "      <th>hum</th>\n",
       "      <th>windspeed</th>\n",
       "    </tr>\n",
       "  </thead>\n",
       "  <tbody>\n",
       "    <tr>\n",
       "      <th>0</th>\n",
       "      <td>1</td>\n",
       "      <td>1</td>\n",
       "      <td>0</td>\n",
       "      <td>0</td>\n",
       "      <td>6</td>\n",
       "      <td>0</td>\n",
       "      <td>1</td>\n",
       "      <td>0.24</td>\n",
       "      <td>0.2879</td>\n",
       "      <td>0.81</td>\n",
       "      <td>0.0</td>\n",
       "    </tr>\n",
       "    <tr>\n",
       "      <th>1</th>\n",
       "      <td>1</td>\n",
       "      <td>1</td>\n",
       "      <td>1</td>\n",
       "      <td>0</td>\n",
       "      <td>6</td>\n",
       "      <td>0</td>\n",
       "      <td>1</td>\n",
       "      <td>0.22</td>\n",
       "      <td>0.2727</td>\n",
       "      <td>0.80</td>\n",
       "      <td>0.0</td>\n",
       "    </tr>\n",
       "    <tr>\n",
       "      <th>2</th>\n",
       "      <td>1</td>\n",
       "      <td>1</td>\n",
       "      <td>2</td>\n",
       "      <td>0</td>\n",
       "      <td>6</td>\n",
       "      <td>0</td>\n",
       "      <td>1</td>\n",
       "      <td>0.22</td>\n",
       "      <td>0.2727</td>\n",
       "      <td>0.80</td>\n",
       "      <td>0.0</td>\n",
       "    </tr>\n",
       "    <tr>\n",
       "      <th>3</th>\n",
       "      <td>1</td>\n",
       "      <td>1</td>\n",
       "      <td>3</td>\n",
       "      <td>0</td>\n",
       "      <td>6</td>\n",
       "      <td>0</td>\n",
       "      <td>1</td>\n",
       "      <td>0.24</td>\n",
       "      <td>0.2879</td>\n",
       "      <td>0.75</td>\n",
       "      <td>0.0</td>\n",
       "    </tr>\n",
       "    <tr>\n",
       "      <th>4</th>\n",
       "      <td>1</td>\n",
       "      <td>1</td>\n",
       "      <td>4</td>\n",
       "      <td>0</td>\n",
       "      <td>6</td>\n",
       "      <td>0</td>\n",
       "      <td>1</td>\n",
       "      <td>0.24</td>\n",
       "      <td>0.2879</td>\n",
       "      <td>0.75</td>\n",
       "      <td>0.0</td>\n",
       "    </tr>\n",
       "  </tbody>\n",
       "</table>\n",
       "</div>"
      ],
      "text/plain": [
       "   season  mnth  hr  holiday  weekday  workingday  weathersit  temp   atemp  \\\n",
       "0       1     1   0        0        6           0           1  0.24  0.2879   \n",
       "1       1     1   1        0        6           0           1  0.22  0.2727   \n",
       "2       1     1   2        0        6           0           1  0.22  0.2727   \n",
       "3       1     1   3        0        6           0           1  0.24  0.2879   \n",
       "4       1     1   4        0        6           0           1  0.24  0.2879   \n",
       "\n",
       "    hum  windspeed  \n",
       "0  0.81        0.0  \n",
       "1  0.80        0.0  \n",
       "2  0.80        0.0  \n",
       "3  0.75        0.0  \n",
       "4  0.75        0.0  "
      ]
     },
     "execution_count": 8,
     "metadata": {},
     "output_type": "execute_result"
    }
   ],
   "source": [
    "# fetch dataset \n",
    "bike_sharing = fetch_ucirepo(id=275) \n",
    "  \n",
    "# data (as pandas dataframes) \n",
    "# leaving year out since we want the model to work for other years as well\n",
    "\n",
    "bike_X: pd.DataFrame = bike_sharing.data.features.loc[:,['season', 'mnth', 'hr', 'holiday', 'weekday',\n",
    "       'workingday', 'weathersit', 'temp', 'atemp', 'hum', 'windspeed']]\n",
    "bike_y = bike_sharing.data.targets \n",
    "bike_X.head()"
   ]
  },
  {
   "cell_type": "code",
   "execution_count": 15,
   "metadata": {},
   "outputs": [
    {
     "data": {
      "text/html": [
       "<div>\n",
       "<style scoped>\n",
       "    .dataframe tbody tr th:only-of-type {\n",
       "        vertical-align: middle;\n",
       "    }\n",
       "\n",
       "    .dataframe tbody tr th {\n",
       "        vertical-align: top;\n",
       "    }\n",
       "\n",
       "    .dataframe thead th {\n",
       "        text-align: right;\n",
       "    }\n",
       "</style>\n",
       "<table border=\"1\" class=\"dataframe\">\n",
       "  <thead>\n",
       "    <tr style=\"text-align: right;\">\n",
       "      <th></th>\n",
       "      <th>cnt</th>\n",
       "    </tr>\n",
       "  </thead>\n",
       "  <tbody>\n",
       "    <tr>\n",
       "      <th>0</th>\n",
       "      <td>16</td>\n",
       "    </tr>\n",
       "    <tr>\n",
       "      <th>1</th>\n",
       "      <td>40</td>\n",
       "    </tr>\n",
       "    <tr>\n",
       "      <th>2</th>\n",
       "      <td>32</td>\n",
       "    </tr>\n",
       "    <tr>\n",
       "      <th>3</th>\n",
       "      <td>13</td>\n",
       "    </tr>\n",
       "    <tr>\n",
       "      <th>4</th>\n",
       "      <td>1</td>\n",
       "    </tr>\n",
       "  </tbody>\n",
       "</table>\n",
       "</div>"
      ],
      "text/plain": [
       "   cnt\n",
       "0   16\n",
       "1   40\n",
       "2   32\n",
       "3   13\n",
       "4    1"
      ]
     },
     "execution_count": 15,
     "metadata": {},
     "output_type": "execute_result"
    }
   ],
   "source": [
    "bike_y.head()"
   ]
  },
  {
   "cell_type": "code",
   "execution_count": 9,
   "metadata": {},
   "outputs": [],
   "source": [
    "\n",
    "# %%\n",
    "bike_X = pd.get_dummies(bike_X,columns=['season','mnth','hr','weekday','weathersit'])\n",
    "# %%\n",
    "bike_train_X, bike_test_X, bike_train_y, bike_test_y = train_test_split(bike_X,bike_y,test_size=0.20,random_state=1234)"
   ]
  },
  {
   "cell_type": "code",
   "execution_count": 29,
   "metadata": {},
   "outputs": [
    {
     "name": "stdout",
     "output_type": "stream",
     "text": [
      "Train MSE:3.5558152916636696,Variance:32925.97419983679,Bias squared:3.7494427215283933e-28\n",
      "Test MSE:9807.832997698504,Variance:33023.93561720613,Bias squared:20.976189183498693\n"
     ]
    }
   ],
   "source": [
    "#linreg = LinearRegression().fit(bike_train_X,bike_train_y)\n",
    "linreg1 = DecisionTreeRegressor(random_state=1234).fit(bike_train_X,bike_train_y)\n",
    "train_pred_y = linreg1.predict(bike_train_X)\n",
    "train_mse = mean_squared_error(bike_train_y,train_pred_y)\n",
    "train_pred_y_var = np.var(train_pred_y)\n",
    "train_pred_y_bias_sq = np.mean(np.mean(train_pred_y) - bike_train_y)**2\n",
    "test_pred_y = linreg1.predict(bike_test_X)\n",
    "test_mse = mean_squared_error(bike_test_y,test_pred_y)\n",
    "test_pred_y_bias_sq = np.mean(np.mean(test_pred_y) - bike_test_y)**2\n",
    "test_pred_y_var = np.var(test_pred_y)\n",
    "\n",
    "print(f\"Train MSE:{train_mse},Variance:{train_pred_y_var},Bias squared:{train_pred_y_bias_sq}\")\n",
    "print(f\"Test MSE:{test_mse},Variance:{test_pred_y_var},Bias squared:{test_pred_y_bias_sq}\")"
   ]
  },
  {
   "cell_type": "code",
   "execution_count": 30,
   "metadata": {},
   "outputs": [
    {
     "name": "stdout",
     "output_type": "stream",
     "text": [
      "Train MSE:8865.42641020334,Variance:24064.103604925112,Bias squared:3.7494427215283933e-28\n",
      "Test MSE:11809.556955845463,Variance:23963.275045890958,Bias squared:2.5407974215667144\n"
     ]
    }
   ],
   "source": [
    "linreg2 = DecisionTreeRegressor(max_depth=10,min_samples_split=6, random_state=1234).fit(bike_train_X,bike_train_y)\n",
    "train_pred_y = linreg2.predict(bike_train_X)\n",
    "train_mse = mean_squared_error(bike_train_y,train_pred_y)\n",
    "train_pred_y_var = np.var(train_pred_y)\n",
    "train_pred_y_bias_sq = np.mean(np.mean(train_pred_y) - bike_train_y)**2\n",
    "test_pred_y = linreg2.predict(bike_test_X)\n",
    "test_mse = mean_squared_error(bike_test_y,test_pred_y)\n",
    "test_pred_y_bias_sq = np.mean(np.mean(test_pred_y) - bike_test_y)**2\n",
    "test_pred_y_var = np.var(test_pred_y)\n",
    "\n",
    "print(f\"Train MSE:{train_mse},Variance:{train_pred_y_var},Bias squared:{train_pred_y_bias_sq}\")\n",
    "print(f\"Test MSE:{test_mse},Variance:{test_pred_y_var},Bias squared:{test_pred_y_bias_sq}\")"
   ]
  },
  {
   "cell_type": "code",
   "execution_count": 35,
   "metadata": {},
   "outputs": [
    {
     "name": "stdout",
     "output_type": "stream",
     "text": [
      "Test MSE:66433.30199452711,Variance:5537.608939487021,Bias squared:211673429.0593197\n",
      "Test MSE:57297.734310032276,Variance:2803.001889117321,Bias squared:189423689.8951004\n"
     ]
    }
   ],
   "source": [
    "from mlxtend.evaluate import bias_variance_decomp\n",
    "linreg1 = DecisionTreeRegressor(random_state=1234)\n",
    "linreg2 = DecisionTreeRegressor(max_depth=10,min_samples_split=6, random_state=1234)\n",
    "avg_expected_loss1, avg_bias1, avg_var1 = bias_variance_decomp(linreg1,bike_train_X.values,bike_train_y.values,bike_test_X.values,bike_test_y.values,loss=\"mse\",random_seed=1234,num_rounds=25)\n",
    "print(f\"Test MSE:{avg_expected_loss1},Variance:{avg_var1},Bias squared:{avg_bias1}\")\n",
    "avg_expected_loss2, avg_bias2, avg_var2 = bias_variance_decomp(linreg2,bike_train_X.values,bike_train_y.values,bike_test_X.values,bike_test_y.values,loss=\"mse\",random_seed=1234,num_rounds=25)\n",
    "print(f\"Test MSE:{avg_expected_loss2},Variance:{avg_var2},Bias squared:{avg_bias2}\")"
   ]
  }
 ],
 "metadata": {
  "kernelspec": {
   "display_name": "base",
   "language": "python",
   "name": "python3"
  },
  "language_info": {
   "codemirror_mode": {
    "name": "ipython",
    "version": 3
   },
   "file_extension": ".py",
   "mimetype": "text/x-python",
   "name": "python",
   "nbconvert_exporter": "python",
   "pygments_lexer": "ipython3",
   "version": "3.11.7"
  }
 },
 "nbformat": 4,
 "nbformat_minor": 2
}
